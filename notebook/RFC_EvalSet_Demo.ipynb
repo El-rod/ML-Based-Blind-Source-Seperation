{
 "cells": [
  {
   "cell_type": "code",
   "id": "f92bbb09-2961-4aee-98e9-6080259cbb16",
   "metadata": {
    "ExecuteTime": {
     "end_time": "2024-12-25T11:42:38.915710Z",
     "start_time": "2024-12-25T11:42:38.770710Z"
    }
   },
   "source": [
    "%load_ext autoreload\n",
    "%autoreload 2\n",
    "\n",
    "import os\n",
    "os.chdir(globals()['_dh'][0])\n",
    "os.chdir('..')\n",
    "# print(os.path.abspath(os.curdir))"
   ],
   "outputs": [
    {
     "name": "stdout",
     "output_type": "stream",
     "text": [
      "The autoreload extension is already loaded. To reload it, use:\n",
      "  %reload_ext autoreload\n"
     ]
    }
   ],
   "execution_count": 7
  },
  {
   "cell_type": "code",
   "id": "2abb7b1d-3191-42ff-82e7-94e9ad2ff195",
   "metadata": {
    "ExecuteTime": {
     "end_time": "2024-12-25T11:42:39.042750Z",
     "start_time": "2024-12-25T11:42:38.919710Z"
    }
   },
   "source": [
    "import numpy as np\n",
    "import matplotlib.pyplot as plt\n",
    "import pickle\n",
    "import rfcutils"
   ],
   "outputs": [],
   "execution_count": 8
  },
  {
   "cell_type": "code",
   "id": "3c5077c1-6efa-40bb-ac61-2ca68d8f0689",
   "metadata": {
    "ExecuteTime": {
     "end_time": "2024-12-25T11:42:39.518709Z",
     "start_time": "2024-12-25T11:42:39.060710Z"
    }
   },
   "source": [
    "#testset_identifier = 'TestSet1Example'\n",
    "testset_identifier = 'TestSet1Mixture'\n",
    "soi_type, interference_sig_type = 'OFDMQPSK', 'CommSignal2'\n",
    "all_sig_mixture = np.load(os.path.join('dataset', f'{testset_identifier}_testmixture_{soi_type}_{interference_sig_type}.npy'))\n",
    "meta_data = np.load(os.path.join('dataset', f'{testset_identifier}_testmixture_{soi_type}_{interference_sig_type}_metadata.npy'))\n",
    "# For TestSet1Example\n",
    "all_sig_mixture_groundtruth, all_sig1, all_bits1 = pickle.load(open(os.path.join('dataset', f'GroundTruth_{testset_identifier}_Dataset_{soi_type}_{interference_sig_type}.pkl'), 'rb'))"
   ],
   "outputs": [
    {
     "ename": "FileNotFoundError",
     "evalue": "[Errno 2] No such file or directory: 'dataset\\\\GroundTruth_TestSet1Mixture_Dataset_OFDMQPSK_CommSignal2.pkl'",
     "output_type": "error",
     "traceback": [
      "\u001B[1;31m---------------------------------------------------------------------------\u001B[0m",
      "\u001B[1;31mFileNotFoundError\u001B[0m                         Traceback (most recent call last)",
      "\u001B[1;32m~\\AppData\\Local\\Temp\\ipykernel_10180\\3105080334.py\u001B[0m in \u001B[0;36m<module>\u001B[1;34m\u001B[0m\n\u001B[0;32m      5\u001B[0m \u001B[0mmeta_data\u001B[0m \u001B[1;33m=\u001B[0m \u001B[0mnp\u001B[0m\u001B[1;33m.\u001B[0m\u001B[0mload\u001B[0m\u001B[1;33m(\u001B[0m\u001B[0mos\u001B[0m\u001B[1;33m.\u001B[0m\u001B[0mpath\u001B[0m\u001B[1;33m.\u001B[0m\u001B[0mjoin\u001B[0m\u001B[1;33m(\u001B[0m\u001B[1;34m'dataset'\u001B[0m\u001B[1;33m,\u001B[0m \u001B[1;34mf'{testset_identifier}_testmixture_{soi_type}_{interference_sig_type}_metadata.npy'\u001B[0m\u001B[1;33m)\u001B[0m\u001B[1;33m)\u001B[0m\u001B[1;33m\u001B[0m\u001B[1;33m\u001B[0m\u001B[0m\n\u001B[0;32m      6\u001B[0m \u001B[1;31m# For TestSet1Example\u001B[0m\u001B[1;33m\u001B[0m\u001B[1;33m\u001B[0m\u001B[1;33m\u001B[0m\u001B[0m\n\u001B[1;32m----> 7\u001B[1;33m \u001B[0mall_sig_mixture_groundtruth\u001B[0m\u001B[1;33m,\u001B[0m \u001B[0mall_sig1\u001B[0m\u001B[1;33m,\u001B[0m \u001B[0mall_bits1\u001B[0m \u001B[1;33m=\u001B[0m \u001B[0mpickle\u001B[0m\u001B[1;33m.\u001B[0m\u001B[0mload\u001B[0m\u001B[1;33m(\u001B[0m\u001B[0mopen\u001B[0m\u001B[1;33m(\u001B[0m\u001B[0mos\u001B[0m\u001B[1;33m.\u001B[0m\u001B[0mpath\u001B[0m\u001B[1;33m.\u001B[0m\u001B[0mjoin\u001B[0m\u001B[1;33m(\u001B[0m\u001B[1;34m'dataset'\u001B[0m\u001B[1;33m,\u001B[0m \u001B[1;34mf'GroundTruth_{testset_identifier}_Dataset_{soi_type}_{interference_sig_type}.pkl'\u001B[0m\u001B[1;33m)\u001B[0m\u001B[1;33m,\u001B[0m \u001B[1;34m'rb'\u001B[0m\u001B[1;33m)\u001B[0m\u001B[1;33m)\u001B[0m\u001B[1;33m\u001B[0m\u001B[1;33m\u001B[0m\u001B[0m\n\u001B[0m",
      "\u001B[1;31mFileNotFoundError\u001B[0m: [Errno 2] No such file or directory: 'dataset\\\\GroundTruth_TestSet1Mixture_Dataset_OFDMQPSK_CommSignal2.pkl'"
     ]
    }
   ],
   "execution_count": 9
  },
  {
   "cell_type": "code",
   "id": "52f36c60-0cc6-426d-8400-57a0876f8f21",
   "metadata": {},
   "source": [
    "example_idx = 0"
   ],
   "outputs": [],
   "execution_count": null
  },
  {
   "cell_type": "code",
   "id": "b0e246bb-d486-4802-9ae2-8457a0e0b9d9",
   "metadata": {},
   "source": [
    "plt.figure()\n",
    "plt.plot(all_sig1[example_idx], color='tab:green')\n",
    "plt.xlim([4000, 4640])\n",
    "plt.show()\n",
    "\n",
    "plt.figure()\n",
    "plt.plot(all_sig_mixture[example_idx], color='tab:purple')\n",
    "plt.xlim([4000, 4640])\n",
    "plt.show()"
   ],
   "outputs": [],
   "execution_count": null
  },
  {
   "cell_type": "code",
   "id": "2249da44-da38-4d56-bb7c-441e3ef30bae",
   "metadata": {},
   "source": [
    "sig_len = 40960\n",
    "def get_soi_generation_fn(soi_sig_type):\n",
    "    if soi_sig_type == 'QPSK':\n",
    "        generate_soi = lambda n, s_len: rfcutils.generate_qpsk_signal(n, s_len//16)\n",
    "        demod_soi = rfcutils.qpsk_matched_filter_demod\n",
    "    elif soi_sig_type == 'QAM16':\n",
    "        generate_soi = lambda n, s_len: rfcutils.generate_qam16_signal(n, s_len//16)\n",
    "        demod_soi = rfcutils.qam16_matched_filter_demod\n",
    "    elif soi_sig_type ==  'QPSK2':\n",
    "        generate_soi = lambda n, s_len: rfcutils.generate_qpsk2_signal(n, s_len//4)\n",
    "        demod_soi = rfcutils.qpsk2_matched_filter_demod\n",
    "    elif soi_sig_type == 'OFDMQPSK':\n",
    "        generate_soi = lambda n, s_len: rfcutils.generate_ofdm_signal(n, s_len//80)\n",
    "        _,_,_,RES_GRID = rfcutils.generate_ofdm_signal(1, sig_len//80)\n",
    "        demod_soi = lambda s: rfcutils.ofdm_demod(s, RES_GRID)\n",
    "    else:\n",
    "        raise Exception(\"SOI Type not recognized\")\n",
    "    return generate_soi, demod_soi\n",
    "\n",
    "generate_soi, demod_soi = get_soi_generation_fn(soi_type)"
   ],
   "outputs": [],
   "execution_count": null
  },
  {
   "cell_type": "code",
   "id": "9e8c3f5c-b9d2-4e51-ab47-480e6382ebb5",
   "metadata": {},
   "source": [
    "bits_demod, syms_demod = demod_soi(all_sig1[example_idx:example_idx+1]) # retain the shape, axis=0 should be the mixture index\n",
    "np.allclose(bits_demod, all_bits1[example_idx:example_idx+1])"
   ],
   "outputs": [],
   "execution_count": null
  },
  {
   "cell_type": "markdown",
   "id": "477b69d5-4a2d-4927-84e4-e8dde01acce0",
   "metadata": {},
   "source": [
    "### Baseline Curves with TestSet1Example"
   ]
  },
  {
   "cell_type": "code",
   "id": "fb35c06f-2b72-403f-a115-a4a0189e076c",
   "metadata": {},
   "source": [
    "all_sinr = np.arange(-30, 0.1, 3)\n",
    "n_per_batch = 100\n",
    "\n",
    "def run_demod_test(sig1_est, bit1_est, soi_type, interference_sig_type, testset_identifier):\n",
    "    # For SampleEvalSet\n",
    "    all_sig_mixture_groundtruth, all_sig1, all_bits1 = pickle.load(open(os.path.join('dataset', f'GroundTruth_{testset_identifier}_Dataset_{soi_type}_{interference_sig_type}.pkl'), 'rb'))\n",
    "    \n",
    "    # Evaluation pipeline\n",
    "    def eval_mse(all_sig_est, all_sig_soi):\n",
    "        assert all_sig_est.shape == all_sig_soi.shape, 'Invalid SOI estimate shape'\n",
    "        return np.mean(np.abs(all_sig_est - all_sig_soi)**2, axis=1)\n",
    "    \n",
    "    def eval_ber(bit_est, bit_true):\n",
    "        ber = np.sum((bit_est != bit_true).astype(np.float32), axis=1) / bit_true.shape[1]\n",
    "        assert bit_est.shape == bit_true.shape, 'Invalid bit estimate shape'\n",
    "        return ber\n",
    "\n",
    "    all_mse, all_ber = [], [] \n",
    "    for idx, sinr in enumerate(all_sinr):\n",
    "        batch_mse =  eval_mse(sig1_est[idx*n_per_batch:(idx+1)*n_per_batch], all_sig1[idx*n_per_batch:(idx+1)*n_per_batch])\n",
    "        bit_true_batch = all_bits1[idx*n_per_batch:(idx+1)*n_per_batch]\n",
    "        batch_ber = eval_ber(bit1_est[idx*n_per_batch:(idx+1)*n_per_batch], bit_true_batch)\n",
    "        all_mse.append(batch_mse)\n",
    "        all_ber.append(batch_ber)\n",
    "\n",
    "    all_mse, all_ber = np.array(all_mse), np.array(all_ber)\n",
    "    mse_mean = 10*np.log10(np.mean(all_mse, axis=-1))\n",
    "    ber_mean = np.mean(all_ber, axis=-1)\n",
    "    return mse_mean, ber_mean"
   ],
   "outputs": [],
   "execution_count": null
  },
  {
   "cell_type": "code",
   "id": "984a053b-8d89-459d-85c3-ef461fb90d95",
   "metadata": {},
   "source": [
    "testset_identifier = 'TestSet1Example'\n",
    "for soi_type in ['QPSK', 'OFDMQPSK']:\n",
    "    for interference_sig_type in ['EMISignal1', 'CommSignal2', 'CommSignal3', 'CommSignal5G1']:\n",
    "\n",
    "        all_mse, all_ber = {}, {}\n",
    "        for id_string in ['Default_NoMitigation', 'Default_LMMSE', 'Default_TF_UNet', 'Default_Torch_WaveNet']:\n",
    "            sig1_est = np.load(os.path.join('outputs', f'{id_string}_{testset_identifier}_estimated_soi_{soi_type}_{interference_sig_type}.npy'))\n",
    "            bit1_est = np.load(os.path.join('outputs', f'{id_string}_{testset_identifier}_estimated_bits_{soi_type}_{interference_sig_type}.npy'))\n",
    "            mse_mean, ber_mean = run_demod_test(sig1_est, bit1_est, soi_type, interference_sig_type, testset_identifier)\n",
    "            all_mse[id_string] = mse_mean\n",
    "            all_ber[id_string] = ber_mean\n",
    "\n",
    "        plt.figure()\n",
    "        for id_string in all_mse.keys():\n",
    "            plt.plot(all_sinr, all_mse[id_string], 'x--', label=id_string)\n",
    "        plt.legend()\n",
    "        plt.grid()\n",
    "        plt.gca().set_ylim(top=3)\n",
    "        plt.xlabel('SINR [dB]')\n",
    "        plt.ylabel('MSE [dB]')\n",
    "        plt.title(f'MSE - {soi_type} + {interference_sig_type}')\n",
    "        plt.show()\n",
    "\n",
    "        plt.figure()\n",
    "        for id_string in all_ber.keys():\n",
    "            plt.semilogy(all_sinr, all_ber[id_string], 'x--', label=id_string)\n",
    "        plt.legend()\n",
    "        plt.grid()\n",
    "        plt.ylim([1e-4, 1])\n",
    "        plt.xlabel('SINR [dB]')\n",
    "        plt.ylabel('BER')\n",
    "        plt.title(f'BER - {soi_type} + {interference_sig_type}')\n",
    "        plt.show()"
   ],
   "outputs": [],
   "execution_count": null
  },
  {
   "cell_type": "code",
   "id": "94076687-abda-4841-8852-1a8c5ba83be5",
   "metadata": {},
   "source": [],
   "outputs": [],
   "execution_count": null
  }
 ],
 "metadata": {
  "kernelspec": {
   "display_name": "Python 3 (ipykernel)",
   "language": "python",
   "name": "python3"
  },
  "language_info": {
   "codemirror_mode": {
    "name": "ipython",
    "version": 3
   },
   "file_extension": ".py",
   "mimetype": "text/x-python",
   "name": "python",
   "nbconvert_exporter": "python",
   "pygments_lexer": "ipython3",
   "version": "3.7.13"
  }
 },
 "nbformat": 4,
 "nbformat_minor": 5
}
